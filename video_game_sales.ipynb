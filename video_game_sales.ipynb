{
 "cells": [
  {
   "cell_type": "markdown",
   "id": "17d8d57e-957a-4ceb-9100-d9ee5ce57363",
   "metadata": {},
   "source": [
    "# Introduction - Video Game Sales Analysis"
   ]
  },
  {
   "cell_type": "markdown",
   "id": "2492ed85-5823-4780-b36f-7ed0ea107cca",
   "metadata": {},
   "source": [
    "I am working with a dataset provided to me by Practicum for use in this project. The data deals with video game sales, and my goal is to uncover patterns that can determine whether or not a game succeeds for the year following the end of the dataset.\n",
    "\n",
    "Our first step will be to preprocess the data - deal with column names, datatypes, duplicates, and missing values, and add a total sales column for each row.\n",
    "\n",
    "Then we will check out the numbers through the years and decide whether we want to use all of the data, or just data from recent years. We also want to figure out the typical lifespan of a console, and which consoles have been performing exceptionally well or poorly recently. We can compare total/average global sales across platforms to help with this. We will look at the correlation between reviews and sales for the Xbox One platform, and then compare the top games for this console to the sales on other consoles. We will then try to determine any patterns behind the most and least profitable genres.\n",
    "\n",
    "After that we will look at each region and identify the top platforms and genres for each one, and determine whether or not the games' ESRB ratings affect sales.\n",
    "\n",
    "Finally I will use statistical tests to:\n",
    "\n",
    "    - Compare average user ratings of the Xbox One and PC platforms (levene test, normal test, t-test with independent samples)\n",
    "    - Compare average user ratings for the Action and Sports genres (levene test, normal test, t-test with independent samples)\n",
    "    - Compare average user ratings for each ESRB rating (levene test, normal test, one-way ANOVA test, tukey test)    "
   ]
  },
  {
   "cell_type": "code",
   "execution_count": 1,
   "id": "87428379-199f-46bc-af72-9f8d6f52420b",
   "metadata": {},
   "outputs": [],
   "source": [
    "import pandas as pd\n",
    "import matplotlib.pyplot as plt\n",
    "import seaborn as sns\n",
    "\n",
    "# import statistical testing functions\n",
    "from scipy.stats import levene\n",
    "from scipy.stats import normaltest\n",
    "from scipy.stats import f_oneway\n",
    "from statsmodels.stats.multicomp import pairwise_tukeyhsd as tukey"
   ]
  },
  {
   "cell_type": "code",
   "execution_count": 2,
   "id": "5c898738-568b-4143-89e7-8fbf5055ffc4",
   "metadata": {},
   "outputs": [],
   "source": [
    "df = pd.read_csv('moved_games.csv')"
   ]
  },
  {
   "cell_type": "markdown",
   "id": "ecf31a8b-a17f-4b03-a7bc-aeae275a3e24",
   "metadata": {
    "jp-MarkdownHeadingCollapsed": true,
    "tags": []
   },
   "source": [
    "# Preprocessing"
   ]
  },
  {
   "cell_type": "code",
   "execution_count": 3,
   "id": "306698ca-3ecb-4c15-a1aa-faabaa59d52f",
   "metadata": {},
   "outputs": [
    {
     "name": "stdout",
     "output_type": "stream",
     "text": [
      "<class 'pandas.core.frame.DataFrame'>\n",
      "RangeIndex: 16715 entries, 0 to 16714\n",
      "Data columns (total 11 columns):\n",
      " #   Column           Non-Null Count  Dtype  \n",
      "---  ------           --------------  -----  \n",
      " 0   Name             16713 non-null  object \n",
      " 1   Platform         16715 non-null  object \n",
      " 2   Year_of_Release  16446 non-null  float64\n",
      " 3   Genre            16713 non-null  object \n",
      " 4   NA_sales         16715 non-null  float64\n",
      " 5   EU_sales         16715 non-null  float64\n",
      " 6   JP_sales         16715 non-null  float64\n",
      " 7   Other_sales      16715 non-null  float64\n",
      " 8   Critic_Score     8137 non-null   float64\n",
      " 9   User_Score       10014 non-null  object \n",
      " 10  Rating           9949 non-null   object \n",
      "dtypes: float64(6), object(5)\n",
      "memory usage: 1.4+ MB\n"
     ]
    }
   ],
   "source": [
    "df.info()"
   ]
  },
  {
   "cell_type": "markdown",
   "id": "b726d76b-4ffd-41c0-94d1-7eb8c30ac1e0",
   "metadata": {},
   "source": [
    "Name, platform, genre, and all sales columns appear to be essentially complete. Many of the number columns are already in the correct datatype. I will need to look into user score and fix whatever is preventing it from being a float type.\n",
    "\n",
    "First let's fix the column names."
   ]
  },
  {
   "cell_type": "code",
   "execution_count": 4,
   "id": "ad4fed00-5173-4715-9bdd-3d4b9f08b3dc",
   "metadata": {},
   "outputs": [],
   "source": [
    "df.columns = df.columns.str.lower()"
   ]
  },
  {
   "cell_type": "code",
   "execution_count": 5,
   "id": "dee1f214-f238-4152-a150-2b86a1f9a588",
   "metadata": {},
   "outputs": [
    {
     "data": {
      "text/html": [
       "<div>\n",
       "<style scoped>\n",
       "    .dataframe tbody tr th:only-of-type {\n",
       "        vertical-align: middle;\n",
       "    }\n",
       "\n",
       "    .dataframe tbody tr th {\n",
       "        vertical-align: top;\n",
       "    }\n",
       "\n",
       "    .dataframe thead th {\n",
       "        text-align: right;\n",
       "    }\n",
       "</style>\n",
       "<table border=\"1\" class=\"dataframe\">\n",
       "  <thead>\n",
       "    <tr style=\"text-align: right;\">\n",
       "      <th></th>\n",
       "      <th>name</th>\n",
       "      <th>platform</th>\n",
       "      <th>year_of_release</th>\n",
       "      <th>genre</th>\n",
       "      <th>na_sales</th>\n",
       "      <th>eu_sales</th>\n",
       "      <th>jp_sales</th>\n",
       "      <th>other_sales</th>\n",
       "      <th>critic_score</th>\n",
       "      <th>user_score</th>\n",
       "      <th>rating</th>\n",
       "    </tr>\n",
       "  </thead>\n",
       "  <tbody>\n",
       "    <tr>\n",
       "      <th>0</th>\n",
       "      <td>Wii Sports</td>\n",
       "      <td>Wii</td>\n",
       "      <td>2006.0</td>\n",
       "      <td>Sports</td>\n",
       "      <td>41.36</td>\n",
       "      <td>28.96</td>\n",
       "      <td>3.77</td>\n",
       "      <td>8.45</td>\n",
       "      <td>76.0</td>\n",
       "      <td>8</td>\n",
       "      <td>E</td>\n",
       "    </tr>\n",
       "    <tr>\n",
       "      <th>1</th>\n",
       "      <td>Super Mario Bros.</td>\n",
       "      <td>NES</td>\n",
       "      <td>1985.0</td>\n",
       "      <td>Platform</td>\n",
       "      <td>29.08</td>\n",
       "      <td>3.58</td>\n",
       "      <td>6.81</td>\n",
       "      <td>0.77</td>\n",
       "      <td>NaN</td>\n",
       "      <td>NaN</td>\n",
       "      <td>NaN</td>\n",
       "    </tr>\n",
       "    <tr>\n",
       "      <th>2</th>\n",
       "      <td>Mario Kart Wii</td>\n",
       "      <td>Wii</td>\n",
       "      <td>2008.0</td>\n",
       "      <td>Racing</td>\n",
       "      <td>15.68</td>\n",
       "      <td>12.76</td>\n",
       "      <td>3.79</td>\n",
       "      <td>3.29</td>\n",
       "      <td>82.0</td>\n",
       "      <td>8.3</td>\n",
       "      <td>E</td>\n",
       "    </tr>\n",
       "    <tr>\n",
       "      <th>3</th>\n",
       "      <td>Wii Sports Resort</td>\n",
       "      <td>Wii</td>\n",
       "      <td>2009.0</td>\n",
       "      <td>Sports</td>\n",
       "      <td>15.61</td>\n",
       "      <td>10.93</td>\n",
       "      <td>3.28</td>\n",
       "      <td>2.95</td>\n",
       "      <td>80.0</td>\n",
       "      <td>8</td>\n",
       "      <td>E</td>\n",
       "    </tr>\n",
       "    <tr>\n",
       "      <th>4</th>\n",
       "      <td>Pokemon Red/Pokemon Blue</td>\n",
       "      <td>GB</td>\n",
       "      <td>1996.0</td>\n",
       "      <td>Role-Playing</td>\n",
       "      <td>11.27</td>\n",
       "      <td>8.89</td>\n",
       "      <td>10.22</td>\n",
       "      <td>1.00</td>\n",
       "      <td>NaN</td>\n",
       "      <td>NaN</td>\n",
       "      <td>NaN</td>\n",
       "    </tr>\n",
       "  </tbody>\n",
       "</table>\n",
       "</div>"
      ],
      "text/plain": [
       "                       name platform  year_of_release         genre  na_sales  \\\n",
       "0                Wii Sports      Wii           2006.0        Sports     41.36   \n",
       "1         Super Mario Bros.      NES           1985.0      Platform     29.08   \n",
       "2            Mario Kart Wii      Wii           2008.0        Racing     15.68   \n",
       "3         Wii Sports Resort      Wii           2009.0        Sports     15.61   \n",
       "4  Pokemon Red/Pokemon Blue       GB           1996.0  Role-Playing     11.27   \n",
       "\n",
       "   eu_sales  jp_sales  other_sales  critic_score user_score rating  \n",
       "0     28.96      3.77         8.45          76.0          8      E  \n",
       "1      3.58      6.81         0.77           NaN        NaN    NaN  \n",
       "2     12.76      3.79         3.29          82.0        8.3      E  \n",
       "3     10.93      3.28         2.95          80.0          8      E  \n",
       "4      8.89     10.22         1.00           NaN        NaN    NaN  "
      ]
     },
     "execution_count": 5,
     "metadata": {},
     "output_type": "execute_result"
    }
   ],
   "source": [
    "df.head() # Check out data"
   ]
  },
  {
   "cell_type": "code",
   "execution_count": 6,
   "id": "c013a906-3f8f-41d5-8089-a67eacd253d3",
   "metadata": {},
   "outputs": [
    {
     "data": {
      "text/plain": [
       "0"
      ]
     },
     "execution_count": 6,
     "metadata": {},
     "output_type": "execute_result"
    }
   ],
   "source": [
    "df.duplicated().sum() # Check for fully duplicate rows"
   ]
  },
  {
   "cell_type": "code",
   "execution_count": 7,
   "id": "b78b6882-9d01-473c-a16c-b20505dcbd8f",
   "metadata": {},
   "outputs": [
    {
     "data": {
      "text/html": [
       "<div>\n",
       "<style scoped>\n",
       "    .dataframe tbody tr th:only-of-type {\n",
       "        vertical-align: middle;\n",
       "    }\n",
       "\n",
       "    .dataframe tbody tr th {\n",
       "        vertical-align: top;\n",
       "    }\n",
       "\n",
       "    .dataframe thead th {\n",
       "        text-align: right;\n",
       "    }\n",
       "</style>\n",
       "<table border=\"1\" class=\"dataframe\">\n",
       "  <thead>\n",
       "    <tr style=\"text-align: right;\">\n",
       "      <th></th>\n",
       "      <th>name</th>\n",
       "      <th>platform</th>\n",
       "      <th>year_of_release</th>\n",
       "      <th>genre</th>\n",
       "      <th>na_sales</th>\n",
       "      <th>eu_sales</th>\n",
       "      <th>jp_sales</th>\n",
       "      <th>other_sales</th>\n",
       "      <th>critic_score</th>\n",
       "      <th>user_score</th>\n",
       "      <th>rating</th>\n",
       "    </tr>\n",
       "  </thead>\n",
       "  <tbody>\n",
       "    <tr>\n",
       "      <th>count</th>\n",
       "      <td>16713</td>\n",
       "      <td>16715</td>\n",
       "      <td>16446.000000</td>\n",
       "      <td>16713</td>\n",
       "      <td>16715.000000</td>\n",
       "      <td>16715.000000</td>\n",
       "      <td>16715.000000</td>\n",
       "      <td>16715.000000</td>\n",
       "      <td>8137.000000</td>\n",
       "      <td>10014</td>\n",
       "      <td>9949</td>\n",
       "    </tr>\n",
       "    <tr>\n",
       "      <th>unique</th>\n",
       "      <td>11559</td>\n",
       "      <td>31</td>\n",
       "      <td>NaN</td>\n",
       "      <td>12</td>\n",
       "      <td>NaN</td>\n",
       "      <td>NaN</td>\n",
       "      <td>NaN</td>\n",
       "      <td>NaN</td>\n",
       "      <td>NaN</td>\n",
       "      <td>96</td>\n",
       "      <td>8</td>\n",
       "    </tr>\n",
       "    <tr>\n",
       "      <th>top</th>\n",
       "      <td>Need for Speed: Most Wanted</td>\n",
       "      <td>PS2</td>\n",
       "      <td>NaN</td>\n",
       "      <td>Action</td>\n",
       "      <td>NaN</td>\n",
       "      <td>NaN</td>\n",
       "      <td>NaN</td>\n",
       "      <td>NaN</td>\n",
       "      <td>NaN</td>\n",
       "      <td>tbd</td>\n",
       "      <td>E</td>\n",
       "    </tr>\n",
       "    <tr>\n",
       "      <th>freq</th>\n",
       "      <td>12</td>\n",
       "      <td>2161</td>\n",
       "      <td>NaN</td>\n",
       "      <td>3369</td>\n",
       "      <td>NaN</td>\n",
       "      <td>NaN</td>\n",
       "      <td>NaN</td>\n",
       "      <td>NaN</td>\n",
       "      <td>NaN</td>\n",
       "      <td>2424</td>\n",
       "      <td>3990</td>\n",
       "    </tr>\n",
       "    <tr>\n",
       "      <th>mean</th>\n",
       "      <td>NaN</td>\n",
       "      <td>NaN</td>\n",
       "      <td>2006.484616</td>\n",
       "      <td>NaN</td>\n",
       "      <td>0.263377</td>\n",
       "      <td>0.145060</td>\n",
       "      <td>0.077617</td>\n",
       "      <td>0.047342</td>\n",
       "      <td>68.967679</td>\n",
       "      <td>NaN</td>\n",
       "      <td>NaN</td>\n",
       "    </tr>\n",
       "    <tr>\n",
       "      <th>std</th>\n",
       "      <td>NaN</td>\n",
       "      <td>NaN</td>\n",
       "      <td>5.877050</td>\n",
       "      <td>NaN</td>\n",
       "      <td>0.813604</td>\n",
       "      <td>0.503339</td>\n",
       "      <td>0.308853</td>\n",
       "      <td>0.186731</td>\n",
       "      <td>13.938165</td>\n",
       "      <td>NaN</td>\n",
       "      <td>NaN</td>\n",
       "    </tr>\n",
       "    <tr>\n",
       "      <th>min</th>\n",
       "      <td>NaN</td>\n",
       "      <td>NaN</td>\n",
       "      <td>1980.000000</td>\n",
       "      <td>NaN</td>\n",
       "      <td>0.000000</td>\n",
       "      <td>0.000000</td>\n",
       "      <td>0.000000</td>\n",
       "      <td>0.000000</td>\n",
       "      <td>13.000000</td>\n",
       "      <td>NaN</td>\n",
       "      <td>NaN</td>\n",
       "    </tr>\n",
       "    <tr>\n",
       "      <th>25%</th>\n",
       "      <td>NaN</td>\n",
       "      <td>NaN</td>\n",
       "      <td>2003.000000</td>\n",
       "      <td>NaN</td>\n",
       "      <td>0.000000</td>\n",
       "      <td>0.000000</td>\n",
       "      <td>0.000000</td>\n",
       "      <td>0.000000</td>\n",
       "      <td>60.000000</td>\n",
       "      <td>NaN</td>\n",
       "      <td>NaN</td>\n",
       "    </tr>\n",
       "    <tr>\n",
       "      <th>50%</th>\n",
       "      <td>NaN</td>\n",
       "      <td>NaN</td>\n",
       "      <td>2007.000000</td>\n",
       "      <td>NaN</td>\n",
       "      <td>0.080000</td>\n",
       "      <td>0.020000</td>\n",
       "      <td>0.000000</td>\n",
       "      <td>0.010000</td>\n",
       "      <td>71.000000</td>\n",
       "      <td>NaN</td>\n",
       "      <td>NaN</td>\n",
       "    </tr>\n",
       "    <tr>\n",
       "      <th>75%</th>\n",
       "      <td>NaN</td>\n",
       "      <td>NaN</td>\n",
       "      <td>2010.000000</td>\n",
       "      <td>NaN</td>\n",
       "      <td>0.240000</td>\n",
       "      <td>0.110000</td>\n",
       "      <td>0.040000</td>\n",
       "      <td>0.030000</td>\n",
       "      <td>79.000000</td>\n",
       "      <td>NaN</td>\n",
       "      <td>NaN</td>\n",
       "    </tr>\n",
       "    <tr>\n",
       "      <th>max</th>\n",
       "      <td>NaN</td>\n",
       "      <td>NaN</td>\n",
       "      <td>2016.000000</td>\n",
       "      <td>NaN</td>\n",
       "      <td>41.360000</td>\n",
       "      <td>28.960000</td>\n",
       "      <td>10.220000</td>\n",
       "      <td>10.570000</td>\n",
       "      <td>98.000000</td>\n",
       "      <td>NaN</td>\n",
       "      <td>NaN</td>\n",
       "    </tr>\n",
       "  </tbody>\n",
       "</table>\n",
       "</div>"
      ],
      "text/plain": [
       "                               name platform  year_of_release   genre  \\\n",
       "count                         16713    16715     16446.000000   16713   \n",
       "unique                        11559       31              NaN      12   \n",
       "top     Need for Speed: Most Wanted      PS2              NaN  Action   \n",
       "freq                             12     2161              NaN    3369   \n",
       "mean                            NaN      NaN      2006.484616     NaN   \n",
       "std                             NaN      NaN         5.877050     NaN   \n",
       "min                             NaN      NaN      1980.000000     NaN   \n",
       "25%                             NaN      NaN      2003.000000     NaN   \n",
       "50%                             NaN      NaN      2007.000000     NaN   \n",
       "75%                             NaN      NaN      2010.000000     NaN   \n",
       "max                             NaN      NaN      2016.000000     NaN   \n",
       "\n",
       "            na_sales      eu_sales      jp_sales   other_sales  critic_score  \\\n",
       "count   16715.000000  16715.000000  16715.000000  16715.000000   8137.000000   \n",
       "unique           NaN           NaN           NaN           NaN           NaN   \n",
       "top              NaN           NaN           NaN           NaN           NaN   \n",
       "freq             NaN           NaN           NaN           NaN           NaN   \n",
       "mean        0.263377      0.145060      0.077617      0.047342     68.967679   \n",
       "std         0.813604      0.503339      0.308853      0.186731     13.938165   \n",
       "min         0.000000      0.000000      0.000000      0.000000     13.000000   \n",
       "25%         0.000000      0.000000      0.000000      0.000000     60.000000   \n",
       "50%         0.080000      0.020000      0.000000      0.010000     71.000000   \n",
       "75%         0.240000      0.110000      0.040000      0.030000     79.000000   \n",
       "max        41.360000     28.960000     10.220000     10.570000     98.000000   \n",
       "\n",
       "       user_score rating  \n",
       "count       10014   9949  \n",
       "unique         96      8  \n",
       "top           tbd      E  \n",
       "freq         2424   3990  \n",
       "mean          NaN    NaN  \n",
       "std           NaN    NaN  \n",
       "min           NaN    NaN  \n",
       "25%           NaN    NaN  \n",
       "50%           NaN    NaN  \n",
       "75%           NaN    NaN  \n",
       "max           NaN    NaN  "
      ]
     },
     "metadata": {},
     "output_type": "display_data"
    }
   ],
   "source": [
    "desc = df.describe(include='all') # Let's check out an overview of the summary statistics to see if values make sense\n",
    "display(desc)"
   ]
  },
  {
   "cell_type": "markdown",
   "id": "f922073f-8ddd-4ae5-a085-478bc6f25e94",
   "metadata": {},
   "source": [
    "Platform seems good. Year_of_release tells us that the data ranges from 1980 to 2016. Genre, sales columns, rating, and critic_score all look reasonable. \n",
    "\n",
    "Name seems to have some duplicates, let's look into that soon.\n",
    "\n",
    "User_score has a high number of \"tbd\" scores, which may correlate with recently released games whose scores have not been reported yet - I will check this. I do want this column to be numeric type so that I can perform calculations, so I will just turn these \"tbd\" values into nans. As the data is updated, it can be fed into this notebook and all calculations can be rerun to improve precision."
   ]
  },
  {
   "cell_type": "markdown",
   "id": "b3d1bd1b-ba0f-414e-ac61-cac9aeb0baed",
   "metadata": {
    "tags": []
   },
   "source": [
    "## User scores"
   ]
  },
  {
   "cell_type": "code",
   "execution_count": 8,
   "id": "8f1bf7e2-d7e5-4227-973b-a65a52da6c33",
   "metadata": {},
   "outputs": [
    {
     "name": "stdout",
     "output_type": "stream",
     "text": [
      "[1997.0, 1999.0, 2000.0, 2001.0, 2002.0, 2003.0, 2004.0, 2005.0, 2006.0, 2007.0, 2008.0, 2009.0, 2010.0, 2011.0, nan, 2012.0, 2013.0, 2014.0, 2015.0, 2016.0]\n",
      "34\n"
     ]
    }
   ],
   "source": [
    "# Look at years where at least one user score is tbd\n",
    "df_tbd = df[df.user_score == 'tbd']\n",
    "print(sorted(df_tbd.year_of_release.unique()))\n",
    "\n",
    "# Hmm, there is a wide spread of years. How many are from 2016?\n",
    "tbd_2016 = df_tbd.query('year_of_release == 2016').count()['year_of_release']\n",
    "print(tbd_2016)"
   ]
  },
  {
   "cell_type": "code",
   "execution_count": 9,
   "id": "5cfeb7d4-0d0b-499b-acbb-c25da1812aef",
   "metadata": {},
   "outputs": [
    {
     "data": {
      "text/plain": [
       "Text(0.5, 1.0, 'How many games each year had a tbd user score?')"
      ]
     },
     "execution_count": 9,
     "metadata": {},
     "output_type": "execute_result"
    },
    {
     "data": {
      "image/png": "[encoded data removed]",
      "text/plain": [
       "<Figure size 800x400 with 1 Axes>"
      ]
     },
     "metadata": {},
     "output_type": "display_data"
    }
   ],
   "source": [
    "df_tbd.year_of_release.hist(bins=15, figsize=[8,4])\n",
    "plt.xlabel(\"Year\")\n",
    "plt.ylabel(\"How many games had a tbd user score?\")\n",
    "plt.title(\"How many games each year had a tbd user score?\")"
   ]
  },
  {
   "cell_type": "code",
   "execution_count": 10,
   "id": "ecd0d028-1798-4a3d-b322-aeba39b3ce23",
   "metadata": {},
   "outputs": [
    {
     "data": {
      "text/plain": [
       "0.014026402640264026"
      ]
     },
     "execution_count": 10,
     "metadata": {},
     "output_type": "execute_result"
    }
   ],
   "source": [
    "ratio_2016_tbd = tbd_2016 / desc.loc['freq', 'user_score']\n",
    "ratio_2016_tbd"
   ]
  },
  {
   "cell_type": "markdown",
   "id": "967eca16-aeaf-4605-b864-a47a2cb42ca5",
   "metadata": {},
   "source": [
    "Only a very small percentage of tbd's come from 2016. It appears that the vast majority of the 'tbd' data may never arrive. Let's go ahead and turn them all into nans, and change datatypes to float."
   ]
  },
  {
   "cell_type": "code",
   "execution_count": 11,
   "id": "be17d36c-62c6-4f30-95b3-5b4813bd5c2e",
   "metadata": {},
   "outputs": [],
   "source": [
    "df.user_score = df.user_score.apply(pd.to_numeric, errors='coerce')"
   ]
  },
  {
   "cell_type": "code",
   "execution_count": 12,
   "id": "b3d23269-1d2d-4af9-9aca-e01549320deb",
   "metadata": {},
   "outputs": [
    {
     "name": "stdout",
     "output_type": "stream",
     "text": [
      "<class 'pandas.core.frame.DataFrame'>\n",
      "RangeIndex: 16715 entries, 0 to 16714\n",
      "Data columns (total 11 columns):\n",
      " #   Column           Non-Null Count  Dtype  \n",
      "---  ------           --------------  -----  \n",
      " 0   name             16713 non-null  object \n",
      " 1   platform         16715 non-null  object \n",
      " 2   year_of_release  16446 non-null  float64\n",
      " 3   genre            16713 non-null  object \n",
      " 4   na_sales         16715 non-null  float64\n",
      " 5   eu_sales         16715 non-null  float64\n",
      " 6   jp_sales         16715 non-null  float64\n",
      " 7   other_sales      16715 non-null  float64\n",
      " 8   critic_score     8137 non-null   float64\n",
      " 9   user_score       7590 non-null   float64\n",
      " 10  rating           9949 non-null   object \n",
      "dtypes: float64(7), object(4)\n",
      "memory usage: 1.4+ MB\n"
     ]
    }
   ],
   "source": [
    "df.info() # Verify success"
   ]
  },
  {
   "cell_type": "markdown",
   "id": "b774ef33-b2aa-4176-a04e-164ad745a58a",
   "metadata": {},
   "source": [
    "User score has dropped the tbd values and became float datatype. I want to now look at year_of_release to determine why they are not integers."
   ]
  },
  {
   "cell_type": "markdown",
   "id": "8df54ec8-8a2b-48c0-8d51-c98c6aa50b43",
   "metadata": {
    "tags": []
   },
   "source": [
    "## Year of Release"
   ]
  },
  {
   "cell_type": "code",
   "execution_count": 13,
   "id": "14f277eb-8fab-497d-b7a5-e731cfb21ed2",
   "metadata": {},
   "outputs": [
    {
     "data": {
      "text/plain": [
       "array([2006., 1985., 2008., 2009., 1996., 1989., 1984., 2005., 1999.,\n",
       "       2007., 2010., 2013., 2004., 1990., 1988., 2002., 2001., 2011.,\n",
       "       1998., 2015., 2012., 2014., 1992., 1997., 1993., 1994., 1982.,\n",
       "       2016., 2003., 1986., 2000.,   nan, 1995., 1991., 1981., 1987.,\n",
       "       1980., 1983.])"
      ]
     },
     "execution_count": 13,
     "metadata": {},
     "output_type": "execute_result"
    }
   ],
   "source": [
    "df.year_of_release.unique()"
   ]
  },
  {
   "cell_type": "markdown",
   "id": "382c2c6f-6961-43db-8e3e-4a7016a51b31",
   "metadata": {},
   "source": [
    "Let's replace nan's here with 0. A zero will clearly be separate from the rest of the years. The years can be changed to int, now that the nans are gone - the computer can use the ints more effectively and save on memory, while still knowing the inherent order of the years."
   ]
  },
  {
   "cell_type": "code",
   "execution_count": 36,
   "id": "99014c66-fbf1-45f7-a623-1b555d51ab59",
   "metadata": {},
   "outputs": [],
   "source": [
    "df.year_of_release = df.year_of_release.fillna(0)\n",
    "df.year_of_release = df.year_of_release.astype('int')"
   ]
  },
  {
   "cell_type": "code",
   "execution_count": 37,
   "id": "6d938bbc-364f-4443-a9fc-f2a107d4e971",
   "metadata": {},
   "outputs": [
    {
     "name": "stdout",
     "output_type": "stream",
     "text": [
      "<class 'pandas.core.frame.DataFrame'>\n",
      "RangeIndex: 16714 entries, 0 to 16713\n",
      "Data columns (total 11 columns):\n",
      " #   Column           Non-Null Count  Dtype   \n",
      "---  ------           --------------  -----   \n",
      " 0   name             16714 non-null  object  \n",
      " 1   platform         16714 non-null  object  \n",
      " 2   year_of_release  16714 non-null  int32   \n",
      " 3   genre            16714 non-null  category\n",
      " 4   na_sales         16714 non-null  float64 \n",
      " 5   eu_sales         16714 non-null  float64 \n",
      " 6   jp_sales         16714 non-null  float64 \n",
      " 7   other_sales      16714 non-null  float64 \n",
      " 8   critic_score     8136 non-null   float64 \n",
      " 9   user_score       7589 non-null   float64 \n",
      " 10  rating           16714 non-null  category\n",
      "dtypes: category(2), float64(6), int32(1), object(2)\n",
      "memory usage: 1.1+ MB\n"
     ]
    }
   ],
   "source": [
    "df.info() # Verify success"
   ]
  },
  {
   "cell_type": "markdown",
   "id": "c815b21b-8613-4baf-8fa0-caf274290a25",
   "metadata": {},
   "source": [
    "I want to look at the ratings column."
   ]
  },
  {
   "cell_type": "markdown",
   "id": "b3861d2f-9452-4642-bc66-872ae8e2fc69",
   "metadata": {
    "tags": []
   },
   "source": [
    "## Rating"
   ]
  },
  {
   "cell_type": "code",
   "execution_count": 16,
   "id": "08565b64-0c1b-4651-9c4c-544b7978aed7",
   "metadata": {},
   "outputs": [
    {
     "data": {
      "text/plain": [
       "array(['E', nan, 'M', 'T', 'E10+', 'K-A', 'AO', 'EC', 'RP'], dtype=object)"
      ]
     },
     "execution_count": 16,
     "metadata": {},
     "output_type": "execute_result"
    }
   ],
   "source": [
    "df.rating.unique()"
   ]
  },
  {
   "cell_type": "markdown",
   "id": "9f1aab4f-d24f-4682-97aa-b056c0ba06c8",
   "metadata": {},
   "source": [
    "Some internet research reveals that 'K-A' is a precursor equivalent to 'E'. I will change these to 'E' for simplicity.\n",
    "\n",
    "'RP' means the rating is pending. Let's look to see if this only applies to a small number of 2016 games."
   ]
  },
  {
   "cell_type": "code",
   "execution_count": 17,
   "id": "74441a68-f2ea-4f83-92ac-8c7887b9c1b7",
   "metadata": {},
   "outputs": [
    {
     "data": {
      "text/plain": [
       "3"
      ]
     },
     "execution_count": 17,
     "metadata": {},
     "output_type": "execute_result"
    }
   ],
   "source": [
    "df.rating = df.rating.replace('K-A', 'E') # Change 'K-A' to 'E'\n",
    "\n",
    "df.query('rating==\"RP\"').count()['name']"
   ]
  },
  {
   "cell_type": "markdown",
   "id": "f77ab94d-8026-49ba-9661-f2303f192a95",
   "metadata": {},
   "source": [
    "Very few games have an 'RP' rating. Let's change nans into 'RP' rating for simplicity, as they each indicate a non-rating."
   ]
  },
  {
   "cell_type": "code",
   "execution_count": 18,
   "id": "22441677-e16c-488e-9188-5ffd294b9196",
   "metadata": {},
   "outputs": [],
   "source": [
    "df.rating = df.rating.fillna('RP')"
   ]
  },
  {
   "cell_type": "code",
   "execution_count": 19,
   "id": "7b89ee0e-fb58-4fbe-8ac0-3f67d66790fc",
   "metadata": {},
   "outputs": [],
   "source": [
    "df.rating.unique() # Verify success\n",
    "df.rating = df.rating.astype('category') # Change datatype to categorical"
   ]
  },
  {
   "cell_type": "code",
   "execution_count": 20,
   "id": "9be53172-f93b-4dd9-b4e7-cd6706971a55",
   "metadata": {},
   "outputs": [
    {
     "name": "stdout",
     "output_type": "stream",
     "text": [
      "<class 'pandas.core.frame.DataFrame'>\n",
      "RangeIndex: 16715 entries, 0 to 16714\n",
      "Data columns (total 11 columns):\n",
      " #   Column           Non-Null Count  Dtype   \n",
      "---  ------           --------------  -----   \n",
      " 0   name             16713 non-null  object  \n",
      " 1   platform         16715 non-null  object  \n",
      " 2   year_of_release  16715 non-null  category\n",
      " 3   genre            16713 non-null  object  \n",
      " 4   na_sales         16715 non-null  float64 \n",
      " 5   eu_sales         16715 non-null  float64 \n",
      " 6   jp_sales         16715 non-null  float64 \n",
      " 7   other_sales      16715 non-null  float64 \n",
      " 8   critic_score     8137 non-null   float64 \n",
      " 9   user_score       7590 non-null   float64 \n",
      " 10  rating           16715 non-null  category\n",
      "dtypes: category(2), float64(6), object(3)\n",
      "memory usage: 1.2+ MB\n"
     ]
    }
   ],
   "source": [
    "df.info()"
   ]
  },
  {
   "cell_type": "markdown",
   "id": "12750aed-b273-4b59-890d-af4d41600962",
   "metadata": {
    "tags": []
   },
   "source": [
    "## Genre"
   ]
  },
  {
   "cell_type": "code",
   "execution_count": 21,
   "id": "8e81ec08-a6b7-4e1a-bf27-20673530b086",
   "metadata": {},
   "outputs": [
    {
     "data": {
      "text/plain": [
       "array(['Sports', 'Platform', 'Racing', 'Role-Playing', 'Puzzle', 'Misc',\n",
       "       'Shooter', 'Simulation', 'Action', 'Fighting', 'Adventure',\n",
       "       'Strategy', nan], dtype=object)"
      ]
     },
     "execution_count": 21,
     "metadata": {},
     "output_type": "execute_result"
    }
   ],
   "source": [
    "df.genre.unique()"
   ]
  },
  {
   "cell_type": "code",
   "execution_count": 22,
   "id": "d474118b-a539-4001-a482-0880db88770a",
   "metadata": {},
   "outputs": [
    {
     "data": {
      "text/html": [
       "<div>\n",
       "<style scoped>\n",
       "    .dataframe tbody tr th:only-of-type {\n",
       "        vertical-align: middle;\n",
       "    }\n",
       "\n",
       "    .dataframe tbody tr th {\n",
       "        vertical-align: top;\n",
       "    }\n",
       "\n",
       "    .dataframe thead th {\n",
       "        text-align: right;\n",
       "    }\n",
       "</style>\n",
       "<table border=\"1\" class=\"dataframe\">\n",
       "  <thead>\n",
       "    <tr style=\"text-align: right;\">\n",
       "      <th></th>\n",
       "      <th>name</th>\n",
       "      <th>platform</th>\n",
       "      <th>year_of_release</th>\n",
       "      <th>genre</th>\n",
       "      <th>na_sales</th>\n",
       "      <th>eu_sales</th>\n",
       "      <th>jp_sales</th>\n",
       "      <th>other_sales</th>\n",
       "      <th>critic_score</th>\n",
       "      <th>user_score</th>\n",
       "      <th>rating</th>\n",
       "    </tr>\n",
       "  </thead>\n",
       "  <tbody>\n",
       "    <tr>\n",
       "      <th>659</th>\n",
       "      <td>NaN</td>\n",
       "      <td>GEN</td>\n",
       "      <td>1993.0</td>\n",
       "      <td>NaN</td>\n",
       "      <td>1.78</td>\n",
       "      <td>0.53</td>\n",
       "      <td>0.00</td>\n",
       "      <td>0.08</td>\n",
       "      <td>NaN</td>\n",
       "      <td>NaN</td>\n",
       "      <td>RP</td>\n",
       "    </tr>\n",
       "    <tr>\n",
       "      <th>14244</th>\n",
       "      <td>NaN</td>\n",
       "      <td>GEN</td>\n",
       "      <td>1993.0</td>\n",
       "      <td>NaN</td>\n",
       "      <td>0.00</td>\n",
       "      <td>0.00</td>\n",
       "      <td>0.03</td>\n",
       "      <td>0.00</td>\n",
       "      <td>NaN</td>\n",
       "      <td>NaN</td>\n",
       "      <td>RP</td>\n",
       "    </tr>\n",
       "  </tbody>\n",
       "</table>\n",
       "</div>"
      ],
      "text/plain": [
       "      name platform year_of_release genre  na_sales  eu_sales  jp_sales  \\\n",
       "659    NaN      GEN          1993.0   NaN      1.78      0.53      0.00   \n",
       "14244  NaN      GEN          1993.0   NaN      0.00      0.00      0.03   \n",
       "\n",
       "       other_sales  critic_score  user_score rating  \n",
       "659           0.08           NaN         NaN     RP  \n",
       "14244         0.00           NaN         NaN     RP  "
      ]
     },
     "execution_count": 22,
     "metadata": {},
     "output_type": "execute_result"
    }
   ],
   "source": [
    "genre_nan = df[df.genre.isna()]\n",
    "genre_nan"
   ]
  },
  {
   "cell_type": "markdown",
   "id": "9c55d067-a7bd-4758-920d-9266a55fc84e",
   "metadata": {},
   "source": [
    "There are only two nans. Let's just turn these into 'Misc'."
   ]
  },
  {
   "cell_type": "code",
   "execution_count": 35,
   "id": "4dc60279-956b-40ea-b71d-b803f90c6494",
   "metadata": {},
   "outputs": [],
   "source": [
    "df.genre = df.genre.fillna('Misc')\n",
    "\n",
    "# I will also change the datatype to save memory.\n",
    "df.genre = df.genre.astype('category')"
   ]
  },
  {
   "cell_type": "code",
   "execution_count": 34,
   "id": "4db7b632-e092-46d4-955d-d7abe572178a",
   "metadata": {},
   "outputs": [
    {
     "name": "stdout",
     "output_type": "stream",
     "text": [
      "<class 'pandas.core.frame.DataFrame'>\n",
      "RangeIndex: 16714 entries, 0 to 16713\n",
      "Data columns (total 11 columns):\n",
      " #   Column           Non-Null Count  Dtype   \n",
      "---  ------           --------------  -----   \n",
      " 0   name             16714 non-null  object  \n",
      " 1   platform         16714 non-null  object  \n",
      " 2   year_of_release  16714 non-null  category\n",
      " 3   genre            16714 non-null  category\n",
      " 4   na_sales         16714 non-null  float64 \n",
      " 5   eu_sales         16714 non-null  float64 \n",
      " 6   jp_sales         16714 non-null  float64 \n",
      " 7   other_sales      16714 non-null  float64 \n",
      " 8   critic_score     8136 non-null   float64 \n",
      " 9   user_score       7589 non-null   float64 \n",
      " 10  rating           16714 non-null  category\n",
      "dtypes: category(3), float64(6), object(2)\n",
      "memory usage: 1.1+ MB\n"
     ]
    }
   ],
   "source": [
    "df.info() # Verify success"
   ]
  },
  {
   "cell_type": "markdown",
   "id": "cb1fc2c0-22ae-440d-9439-3e2b21ab5926",
   "metadata": {
    "tags": []
   },
   "source": [
    "## Name"
   ]
  },
  {
   "cell_type": "markdown",
   "id": "43b3aba3-ba00-4806-ad7a-48ddedd35257",
   "metadata": {},
   "source": [
    "I mainly want to look for duplicates in this name column and see whether or not they should be removed."
   ]
  },
  {
   "cell_type": "code",
   "execution_count": 25,
   "id": "f46fa2e1-0c13-49bf-8976-fa3ff1a77c8e",
   "metadata": {},
   "outputs": [
    {
     "data": {
      "text/plain": [
       "5155"
      ]
     },
     "execution_count": 25,
     "metadata": {},
     "output_type": "execute_result"
    }
   ],
   "source": [
    "df.duplicated(subset='name').sum()"
   ]
  },
  {
   "cell_type": "markdown",
   "id": "cd41006c-f5fe-4e42-b4c1-505ee9bbc559",
   "metadata": {},
   "source": [
    "That's a lot of duplicate names. However, games tend to come out on a variety of platforms. Some games may share a name and platform but are totally distinct, coming out in a different year. Let's add these to the subsets."
   ]
  },
  {
   "cell_type": "code",
   "execution_count": 26,
   "id": "f57fb36a-2943-403c-b144-1ac2cea02443",
   "metadata": {},
   "outputs": [],
   "source": [
    "dups = df[df.duplicated(subset=['name', 'platform', 'year_of_release'])]\n",
    "madden = dups.loc[16230, 'name']"
   ]
  },
  {
   "cell_type": "markdown",
   "id": "43e9fc28-cefe-48fd-a354-ad137ed60337",
   "metadata": {},
   "source": [
    "Two duplicates - let's first deal with the nan."
   ]
  },
  {
   "cell_type": "code",
   "execution_count": 27,
   "id": "b2cb7b57-6fae-4d74-b5d6-a45e2d452236",
   "metadata": {},
   "outputs": [
    {
     "data": {
      "text/html": [
       "<div>\n",
       "<style scoped>\n",
       "    .dataframe tbody tr th:only-of-type {\n",
       "        vertical-align: middle;\n",
       "    }\n",
       "\n",
       "    .dataframe tbody tr th {\n",
       "        vertical-align: top;\n",
       "    }\n",
       "\n",
       "    .dataframe thead th {\n",
       "        text-align: right;\n",
       "    }\n",
       "</style>\n",
       "<table border=\"1\" class=\"dataframe\">\n",
       "  <thead>\n",
       "    <tr style=\"text-align: right;\">\n",
       "      <th></th>\n",
       "      <th>name</th>\n",
       "      <th>platform</th>\n",
       "      <th>year_of_release</th>\n",
       "      <th>genre</th>\n",
       "      <th>na_sales</th>\n",
       "      <th>eu_sales</th>\n",
       "      <th>jp_sales</th>\n",
       "      <th>other_sales</th>\n",
       "      <th>critic_score</th>\n",
       "      <th>user_score</th>\n",
       "      <th>rating</th>\n",
       "    </tr>\n",
       "  </thead>\n",
       "  <tbody>\n",
       "    <tr>\n",
       "      <th>659</th>\n",
       "      <td>NaN</td>\n",
       "      <td>GEN</td>\n",
       "      <td>1993.0</td>\n",
       "      <td>Misc</td>\n",
       "      <td>1.78</td>\n",
       "      <td>0.53</td>\n",
       "      <td>0.00</td>\n",
       "      <td>0.08</td>\n",
       "      <td>NaN</td>\n",
       "      <td>NaN</td>\n",
       "      <td>RP</td>\n",
       "    </tr>\n",
       "    <tr>\n",
       "      <th>14244</th>\n",
       "      <td>NaN</td>\n",
       "      <td>GEN</td>\n",
       "      <td>1993.0</td>\n",
       "      <td>Misc</td>\n",
       "      <td>0.00</td>\n",
       "      <td>0.00</td>\n",
       "      <td>0.03</td>\n",
       "      <td>0.00</td>\n",
       "      <td>NaN</td>\n",
       "      <td>NaN</td>\n",
       "      <td>RP</td>\n",
       "    </tr>\n",
       "  </tbody>\n",
       "</table>\n",
       "</div>"
      ],
      "text/plain": [
       "      name platform year_of_release genre  na_sales  eu_sales  jp_sales  \\\n",
       "659    NaN      GEN          1993.0  Misc      1.78      0.53      0.00   \n",
       "14244  NaN      GEN          1993.0  Misc      0.00      0.00      0.03   \n",
       "\n",
       "       other_sales  critic_score  user_score rating  \n",
       "659           0.08           NaN         NaN     RP  \n",
       "14244         0.00           NaN         NaN     RP  "
      ]
     },
     "execution_count": 27,
     "metadata": {},
     "output_type": "execute_result"
    }
   ],
   "source": [
    "df[df.name.isna()]"
   ]
  },
  {
   "cell_type": "markdown",
   "id": "87b50007-b053-4a55-abf8-970b86c6517b",
   "metadata": {},
   "source": [
    "These are two separate games. Let's replace the nan names with \"Unknown\"."
   ]
  },
  {
   "cell_type": "code",
   "execution_count": 28,
   "id": "04ca8868-e20e-4be5-9a21-e9e8cea837d9",
   "metadata": {},
   "outputs": [],
   "source": [
    "df.name = df.name.fillna('Unknown')"
   ]
  },
  {
   "cell_type": "markdown",
   "id": "67198a37-07ca-4afc-a714-6499b04008dc",
   "metadata": {},
   "source": [
    "Now let's deal with the Madden game."
   ]
  },
  {
   "cell_type": "code",
   "execution_count": 29,
   "id": "bd488a10-25d5-496a-b057-bb020e205015",
   "metadata": {},
   "outputs": [
    {
     "data": {
      "text/html": [
       "<div>\n",
       "<style scoped>\n",
       "    .dataframe tbody tr th:only-of-type {\n",
       "        vertical-align: middle;\n",
       "    }\n",
       "\n",
       "    .dataframe tbody tr th {\n",
       "        vertical-align: top;\n",
       "    }\n",
       "\n",
       "    .dataframe thead th {\n",
       "        text-align: right;\n",
       "    }\n",
       "</style>\n",
       "<table border=\"1\" class=\"dataframe\">\n",
       "  <thead>\n",
       "    <tr style=\"text-align: right;\">\n",
       "      <th></th>\n",
       "      <th>name</th>\n",
       "      <th>platform</th>\n",
       "      <th>year_of_release</th>\n",
       "      <th>genre</th>\n",
       "      <th>na_sales</th>\n",
       "      <th>eu_sales</th>\n",
       "      <th>jp_sales</th>\n",
       "      <th>other_sales</th>\n",
       "      <th>critic_score</th>\n",
       "      <th>user_score</th>\n",
       "      <th>rating</th>\n",
       "    </tr>\n",
       "  </thead>\n",
       "  <tbody>\n",
       "    <tr>\n",
       "      <th>507</th>\n",
       "      <td>Madden NFL 13</td>\n",
       "      <td>X360</td>\n",
       "      <td>2012.0</td>\n",
       "      <td>Sports</td>\n",
       "      <td>2.53</td>\n",
       "      <td>0.15</td>\n",
       "      <td>0.0</td>\n",
       "      <td>0.17</td>\n",
       "      <td>81.0</td>\n",
       "      <td>5.8</td>\n",
       "      <td>E</td>\n",
       "    </tr>\n",
       "    <tr>\n",
       "      <th>604</th>\n",
       "      <td>Madden NFL 13</td>\n",
       "      <td>PS3</td>\n",
       "      <td>2012.0</td>\n",
       "      <td>Sports</td>\n",
       "      <td>2.11</td>\n",
       "      <td>0.22</td>\n",
       "      <td>0.0</td>\n",
       "      <td>0.23</td>\n",
       "      <td>83.0</td>\n",
       "      <td>5.5</td>\n",
       "      <td>E</td>\n",
       "    </tr>\n",
       "    <tr>\n",
       "      <th>3986</th>\n",
       "      <td>Madden NFL 13</td>\n",
       "      <td>Wii</td>\n",
       "      <td>2012.0</td>\n",
       "      <td>Sports</td>\n",
       "      <td>0.47</td>\n",
       "      <td>0.00</td>\n",
       "      <td>0.0</td>\n",
       "      <td>0.03</td>\n",
       "      <td>NaN</td>\n",
       "      <td>7.3</td>\n",
       "      <td>E</td>\n",
       "    </tr>\n",
       "    <tr>\n",
       "      <th>5887</th>\n",
       "      <td>Madden NFL 13</td>\n",
       "      <td>PSV</td>\n",
       "      <td>2012.0</td>\n",
       "      <td>Sports</td>\n",
       "      <td>0.28</td>\n",
       "      <td>0.00</td>\n",
       "      <td>0.0</td>\n",
       "      <td>0.02</td>\n",
       "      <td>63.0</td>\n",
       "      <td>7.3</td>\n",
       "      <td>E</td>\n",
       "    </tr>\n",
       "    <tr>\n",
       "      <th>7066</th>\n",
       "      <td>Madden NFL 13</td>\n",
       "      <td>WiiU</td>\n",
       "      <td>2012.0</td>\n",
       "      <td>Sports</td>\n",
       "      <td>0.21</td>\n",
       "      <td>0.00</td>\n",
       "      <td>0.0</td>\n",
       "      <td>0.02</td>\n",
       "      <td>75.0</td>\n",
       "      <td>6.7</td>\n",
       "      <td>E</td>\n",
       "    </tr>\n",
       "    <tr>\n",
       "      <th>16230</th>\n",
       "      <td>Madden NFL 13</td>\n",
       "      <td>PS3</td>\n",
       "      <td>2012.0</td>\n",
       "      <td>Sports</td>\n",
       "      <td>0.00</td>\n",
       "      <td>0.01</td>\n",
       "      <td>0.0</td>\n",
       "      <td>0.00</td>\n",
       "      <td>83.0</td>\n",
       "      <td>5.5</td>\n",
       "      <td>E</td>\n",
       "    </tr>\n",
       "  </tbody>\n",
       "</table>\n",
       "</div>"
      ],
      "text/plain": [
       "                name platform year_of_release   genre  na_sales  eu_sales  \\\n",
       "507    Madden NFL 13     X360          2012.0  Sports      2.53      0.15   \n",
       "604    Madden NFL 13      PS3          2012.0  Sports      2.11      0.22   \n",
       "3986   Madden NFL 13      Wii          2012.0  Sports      0.47      0.00   \n",
       "5887   Madden NFL 13      PSV          2012.0  Sports      0.28      0.00   \n",
       "7066   Madden NFL 13     WiiU          2012.0  Sports      0.21      0.00   \n",
       "16230  Madden NFL 13      PS3          2012.0  Sports      0.00      0.01   \n",
       "\n",
       "       jp_sales  other_sales  critic_score  user_score rating  \n",
       "507         0.0         0.17          81.0         5.8      E  \n",
       "604         0.0         0.23          83.0         5.5      E  \n",
       "3986        0.0         0.03           NaN         7.3      E  \n",
       "5887        0.0         0.02          63.0         7.3      E  \n",
       "7066        0.0         0.02          75.0         6.7      E  \n",
       "16230       0.0         0.00          83.0         5.5      E  "
      ]
     },
     "execution_count": 29,
     "metadata": {},
     "output_type": "execute_result"
    }
   ],
   "source": [
    "df[df.name == madden]"
   ]
  },
  {
   "cell_type": "markdown",
   "id": "bd810968-08b2-4c90-9165-21db724d6e73",
   "metadata": {},
   "source": [
    "So, rows 604 and 16230 are essentially duplicates. I'll add the sales from row 16230 to row 604, effectively combining them, before removing row 16230."
   ]
  },
  {
   "cell_type": "code",
   "execution_count": 30,
   "id": "8481c5de-0575-48df-9456-f01b459cfb38",
   "metadata": {},
   "outputs": [],
   "source": [
    "df.loc[604, 'eu_sales'] = df.loc[604, 'eu_sales'] + df.loc[16230, 'eu_sales']\n",
    "df = df.drop(index=16230).reset_index(drop=True)"
   ]
  },
  {
   "cell_type": "code",
   "execution_count": 31,
   "id": "5de60734-8948-43cd-942b-9440d00b8955",
   "metadata": {},
   "outputs": [
    {
     "data": {
      "text/html": [
       "<div>\n",
       "<style scoped>\n",
       "    .dataframe tbody tr th:only-of-type {\n",
       "        vertical-align: middle;\n",
       "    }\n",
       "\n",
       "    .dataframe tbody tr th {\n",
       "        vertical-align: top;\n",
       "    }\n",
       "\n",
       "    .dataframe thead th {\n",
       "        text-align: right;\n",
       "    }\n",
       "</style>\n",
       "<table border=\"1\" class=\"dataframe\">\n",
       "  <thead>\n",
       "    <tr style=\"text-align: right;\">\n",
       "      <th></th>\n",
       "      <th>name</th>\n",
       "      <th>platform</th>\n",
       "      <th>year_of_release</th>\n",
       "      <th>genre</th>\n",
       "      <th>na_sales</th>\n",
       "      <th>eu_sales</th>\n",
       "      <th>jp_sales</th>\n",
       "      <th>other_sales</th>\n",
       "      <th>critic_score</th>\n",
       "      <th>user_score</th>\n",
       "      <th>rating</th>\n",
       "    </tr>\n",
       "  </thead>\n",
       "  <tbody>\n",
       "    <tr>\n",
       "      <th>507</th>\n",
       "      <td>Madden NFL 13</td>\n",
       "      <td>X360</td>\n",
       "      <td>2012.0</td>\n",
       "      <td>Sports</td>\n",
       "      <td>2.53</td>\n",
       "      <td>0.15</td>\n",
       "      <td>0.0</td>\n",
       "      <td>0.17</td>\n",
       "      <td>81.0</td>\n",
       "      <td>5.8</td>\n",
       "      <td>E</td>\n",
       "    </tr>\n",
       "    <tr>\n",
       "      <th>604</th>\n",
       "      <td>Madden NFL 13</td>\n",
       "      <td>PS3</td>\n",
       "      <td>2012.0</td>\n",
       "      <td>Sports</td>\n",
       "      <td>2.11</td>\n",
       "      <td>0.23</td>\n",
       "      <td>0.0</td>\n",
       "      <td>0.23</td>\n",
       "      <td>83.0</td>\n",
       "      <td>5.5</td>\n",
       "      <td>E</td>\n",
       "    </tr>\n",
       "    <tr>\n",
       "      <th>3986</th>\n",
       "      <td>Madden NFL 13</td>\n",
       "      <td>Wii</td>\n",
       "      <td>2012.0</td>\n",
       "      <td>Sports</td>\n",
       "      <td>0.47</td>\n",
       "      <td>0.00</td>\n",
       "      <td>0.0</td>\n",
       "      <td>0.03</td>\n",
       "      <td>NaN</td>\n",
       "      <td>7.3</td>\n",
       "      <td>E</td>\n",
       "    </tr>\n",
       "    <tr>\n",
       "      <th>5887</th>\n",
       "      <td>Madden NFL 13</td>\n",
       "      <td>PSV</td>\n",
       "      <td>2012.0</td>\n",
       "      <td>Sports</td>\n",
       "      <td>0.28</td>\n",
       "      <td>0.00</td>\n",
       "      <td>0.0</td>\n",
       "      <td>0.02</td>\n",
       "      <td>63.0</td>\n",
       "      <td>7.3</td>\n",
       "      <td>E</td>\n",
       "    </tr>\n",
       "    <tr>\n",
       "      <th>7066</th>\n",
       "      <td>Madden NFL 13</td>\n",
       "      <td>WiiU</td>\n",
       "      <td>2012.0</td>\n",
       "      <td>Sports</td>\n",
       "      <td>0.21</td>\n",
       "      <td>0.00</td>\n",
       "      <td>0.0</td>\n",
       "      <td>0.02</td>\n",
       "      <td>75.0</td>\n",
       "      <td>6.7</td>\n",
       "      <td>E</td>\n",
       "    </tr>\n",
       "  </tbody>\n",
       "</table>\n",
       "</div>"
      ],
      "text/plain": [
       "               name platform year_of_release   genre  na_sales  eu_sales  \\\n",
       "507   Madden NFL 13     X360          2012.0  Sports      2.53      0.15   \n",
       "604   Madden NFL 13      PS3          2012.0  Sports      2.11      0.23   \n",
       "3986  Madden NFL 13      Wii          2012.0  Sports      0.47      0.00   \n",
       "5887  Madden NFL 13      PSV          2012.0  Sports      0.28      0.00   \n",
       "7066  Madden NFL 13     WiiU          2012.0  Sports      0.21      0.00   \n",
       "\n",
       "      jp_sales  other_sales  critic_score  user_score rating  \n",
       "507        0.0         0.17          81.0         5.8      E  \n",
       "604        0.0         0.23          83.0         5.5      E  \n",
       "3986       0.0         0.03           NaN         7.3      E  \n",
       "5887       0.0         0.02          63.0         7.3      E  \n",
       "7066       0.0         0.02          75.0         6.7      E  "
      ]
     },
     "execution_count": 31,
     "metadata": {},
     "output_type": "execute_result"
    }
   ],
   "source": [
    "df[df.name == madden] # Verify success"
   ]
  },
  {
   "cell_type": "code",
   "execution_count": 32,
   "id": "13d48f0c-6bdc-4b4d-be52-ec7543ce099d",
   "metadata": {},
   "outputs": [
    {
     "name": "stdout",
     "output_type": "stream",
     "text": [
      "<class 'pandas.core.frame.DataFrame'>\n",
      "RangeIndex: 16714 entries, 0 to 16713\n",
      "Data columns (total 11 columns):\n",
      " #   Column           Non-Null Count  Dtype   \n",
      "---  ------           --------------  -----   \n",
      " 0   name             16714 non-null  object  \n",
      " 1   platform         16714 non-null  object  \n",
      " 2   year_of_release  16714 non-null  category\n",
      " 3   genre            16714 non-null  object  \n",
      " 4   na_sales         16714 non-null  float64 \n",
      " 5   eu_sales         16714 non-null  float64 \n",
      " 6   jp_sales         16714 non-null  float64 \n",
      " 7   other_sales      16714 non-null  float64 \n",
      " 8   critic_score     8136 non-null   float64 \n",
      " 9   user_score       7589 non-null   float64 \n",
      " 10  rating           16714 non-null  category\n",
      "dtypes: category(2), float64(6), object(3)\n",
      "memory usage: 1.2+ MB\n"
     ]
    }
   ],
   "source": [
    "df.info()"
   ]
  },
  {
   "cell_type": "markdown",
   "id": "d0c69898-7e81-4f7f-be06-103476214de3",
   "metadata": {
    "tags": []
   },
   "source": [
    "## Platform"
   ]
  },
  {
   "cell_type": "markdown",
   "id": "4a191171-7a72-4a0a-ad31-5f81638da921",
   "metadata": {},
   "source": [
    "I'm just going to check out the platforms and change datatype to category."
   ]
  },
  {
   "cell_type": "code",
   "execution_count": 38,
   "id": "fc1d8121-6c17-4e0b-b3a2-caf9212144b6",
   "metadata": {},
   "outputs": [
    {
     "data": {
      "text/plain": [
       "array(['Wii', 'NES', 'GB', 'DS', 'X360', 'PS3', 'PS2', 'SNES', 'GBA',\n",
       "       'PS4', '3DS', 'N64', 'PS', 'XB', 'PC', '2600', 'PSP', 'XOne',\n",
       "       'WiiU', 'GC', 'GEN', 'DC', 'PSV', 'SAT', 'SCD', 'WS', 'NG', 'TG16',\n",
       "       '3DO', 'GG', 'PCFX'], dtype=object)"
      ]
     },
     "execution_count": 38,
     "metadata": {},
     "output_type": "execute_result"
    }
   ],
   "source": [
    "df.platform.unique()"
   ]
  },
  {
   "cell_type": "code",
   "execution_count": 40,
   "id": "f289be6b-032f-488c-b59a-db4deb017f2f",
   "metadata": {},
   "outputs": [],
   "source": [
    "df.platform = df.platform.astype('category')"
   ]
  },
  {
   "cell_type": "code",
   "execution_count": 41,
   "id": "6d4e76d4-9045-425f-8561-d7c73c9b5d62",
   "metadata": {},
   "outputs": [
    {
     "name": "stdout",
     "output_type": "stream",
     "text": [
      "<class 'pandas.core.frame.DataFrame'>\n",
      "RangeIndex: 16714 entries, 0 to 16713\n",
      "Data columns (total 11 columns):\n",
      " #   Column           Non-Null Count  Dtype   \n",
      "---  ------           --------------  -----   \n",
      " 0   name             16714 non-null  object  \n",
      " 1   platform         16714 non-null  category\n",
      " 2   year_of_release  16714 non-null  int32   \n",
      " 3   genre            16714 non-null  category\n",
      " 4   na_sales         16714 non-null  float64 \n",
      " 5   eu_sales         16714 non-null  float64 \n",
      " 6   jp_sales         16714 non-null  float64 \n",
      " 7   other_sales      16714 non-null  float64 \n",
      " 8   critic_score     8136 non-null   float64 \n",
      " 9   user_score       7589 non-null   float64 \n",
      " 10  rating           16714 non-null  category\n",
      "dtypes: category(3), float64(6), int32(1), object(1)\n",
      "memory usage: 1.0+ MB\n"
     ]
    }
   ],
   "source": [
    "df.info()"
   ]
  },
  {
   "cell_type": "markdown",
   "id": "be55a6ed-5e75-4376-b528-e23cf2915fcd",
   "metadata": {
    "tags": []
   },
   "source": [
    "## Sales"
   ]
  },
  {
   "cell_type": "code",
   "execution_count": 43,
   "id": "73c43da4-ca0b-453d-90b9-5d11df873514",
   "metadata": {},
   "outputs": [
    {
     "data": {
      "text/html": [
       "<div>\n",
       "<style scoped>\n",
       "    .dataframe tbody tr th:only-of-type {\n",
       "        vertical-align: middle;\n",
       "    }\n",
       "\n",
       "    .dataframe tbody tr th {\n",
       "        vertical-align: top;\n",
       "    }\n",
       "\n",
       "    .dataframe thead th {\n",
       "        text-align: right;\n",
       "    }\n",
       "</style>\n",
       "<table border=\"1\" class=\"dataframe\">\n",
       "  <thead>\n",
       "    <tr style=\"text-align: right;\">\n",
       "      <th></th>\n",
       "      <th>year_of_release</th>\n",
       "      <th>na_sales</th>\n",
       "      <th>eu_sales</th>\n",
       "      <th>jp_sales</th>\n",
       "      <th>other_sales</th>\n",
       "      <th>critic_score</th>\n",
       "      <th>user_score</th>\n",
       "    </tr>\n",
       "  </thead>\n",
       "  <tbody>\n",
       "    <tr>\n",
       "      <th>count</th>\n",
       "      <td>16714.000000</td>\n",
       "      <td>16714.000000</td>\n",
       "      <td>16714.000000</td>\n",
       "      <td>16714.000000</td>\n",
       "      <td>16714.000000</td>\n",
       "      <td>8136.000000</td>\n",
       "      <td>7589.000000</td>\n",
       "    </tr>\n",
       "    <tr>\n",
       "      <th>mean</th>\n",
       "      <td>1974.191337</td>\n",
       "      <td>0.263393</td>\n",
       "      <td>0.145068</td>\n",
       "      <td>0.077622</td>\n",
       "      <td>0.047345</td>\n",
       "      <td>68.965954</td>\n",
       "      <td>7.125260</td>\n",
       "    </tr>\n",
       "    <tr>\n",
       "      <th>std</th>\n",
       "      <td>252.567317</td>\n",
       "      <td>0.813625</td>\n",
       "      <td>0.503353</td>\n",
       "      <td>0.308862</td>\n",
       "      <td>0.186736</td>\n",
       "      <td>13.938153</td>\n",
       "      <td>1.499989</td>\n",
       "    </tr>\n",
       "    <tr>\n",
       "      <th>min</th>\n",
       "      <td>0.000000</td>\n",
       "      <td>0.000000</td>\n",
       "      <td>0.000000</td>\n",
       "      <td>0.000000</td>\n",
       "      <td>0.000000</td>\n",
       "      <td>13.000000</td>\n",
       "      <td>0.000000</td>\n",
       "    </tr>\n",
       "    <tr>\n",
       "      <th>25%</th>\n",
       "      <td>2003.000000</td>\n",
       "      <td>0.000000</td>\n",
       "      <td>0.000000</td>\n",
       "      <td>0.000000</td>\n",
       "      <td>0.000000</td>\n",
       "      <td>60.000000</td>\n",
       "      <td>6.400000</td>\n",
       "    </tr>\n",
       "    <tr>\n",
       "      <th>50%</th>\n",
       "      <td>2007.000000</td>\n",
       "      <td>0.080000</td>\n",
       "      <td>0.020000</td>\n",
       "      <td>0.000000</td>\n",
       "      <td>0.010000</td>\n",
       "      <td>71.000000</td>\n",
       "      <td>7.500000</td>\n",
       "    </tr>\n",
       "    <tr>\n",
       "      <th>75%</th>\n",
       "      <td>2010.000000</td>\n",
       "      <td>0.240000</td>\n",
       "      <td>0.110000</td>\n",
       "      <td>0.040000</td>\n",
       "      <td>0.030000</td>\n",
       "      <td>79.000000</td>\n",
       "      <td>8.200000</td>\n",
       "    </tr>\n",
       "    <tr>\n",
       "      <th>max</th>\n",
       "      <td>2016.000000</td>\n",
       "      <td>41.360000</td>\n",
       "      <td>28.960000</td>\n",
       "      <td>10.220000</td>\n",
       "      <td>10.570000</td>\n",
       "      <td>98.000000</td>\n",
       "      <td>9.700000</td>\n",
       "    </tr>\n",
       "  </tbody>\n",
       "</table>\n",
       "</div>"
      ],
      "text/plain": [
       "       year_of_release      na_sales      eu_sales      jp_sales  \\\n",
       "count     16714.000000  16714.000000  16714.000000  16714.000000   \n",
       "mean       1974.191337      0.263393      0.145068      0.077622   \n",
       "std         252.567317      0.813625      0.503353      0.308862   \n",
       "min           0.000000      0.000000      0.000000      0.000000   \n",
       "25%        2003.000000      0.000000      0.000000      0.000000   \n",
       "50%        2007.000000      0.080000      0.020000      0.000000   \n",
       "75%        2010.000000      0.240000      0.110000      0.040000   \n",
       "max        2016.000000     41.360000     28.960000     10.220000   \n",
       "\n",
       "        other_sales  critic_score   user_score  \n",
       "count  16714.000000   8136.000000  7589.000000  \n",
       "mean       0.047345     68.965954     7.125260  \n",
       "std        0.186736     13.938153     1.499989  \n",
       "min        0.000000     13.000000     0.000000  \n",
       "25%        0.000000     60.000000     6.400000  \n",
       "50%        0.010000     71.000000     7.500000  \n",
       "75%        0.030000     79.000000     8.200000  \n",
       "max       10.570000     98.000000     9.700000  "
      ]
     },
     "execution_count": 43,
     "metadata": {},
     "output_type": "execute_result"
    }
   ],
   "source": [
    "df.describe()"
   ]
  },
  {
   "cell_type": "markdown",
   "id": "440b596c-f397-4c9a-a28f-4e5f501cf4a6",
   "metadata": {},
   "source": [
    "The sales columns still look good, and they are complete (no nans). Let's write a function and add a global sales column."
   ]
  },
  {
   "cell_type": "code",
   "execution_count": 44,
   "id": "bd87ed7d-a528-4686-b9ec-b2bf9165ff23",
   "metadata": {},
   "outputs": [],
   "source": [
    "def add_sales(row):\n",
    "    \n",
    "    \"\"\"\n",
    "    This function will be applied to each row of this dataframe, adding all sales together, and inserting the sums into a new column.\n",
    "    \"\"\"\n",
    "    \n",
    "    total = row.na_sales + row.eu_sales + row.jp_sales + row.other_sales\n",
    "    \n",
    "    return total"
   ]
  },
  {
   "cell_type": "code",
   "execution_count": 45,
   "id": "5109d053-bf34-4077-a4be-9ea4ec83e1f3",
   "metadata": {},
   "outputs": [
    {
     "data": {
      "text/html": [
       "<div>\n",
       "<style scoped>\n",
       "    .dataframe tbody tr th:only-of-type {\n",
       "        vertical-align: middle;\n",
       "    }\n",
       "\n",
       "    .dataframe tbody tr th {\n",
       "        vertical-align: top;\n",
       "    }\n",
       "\n",
       "    .dataframe thead th {\n",
       "        text-align: right;\n",
       "    }\n",
       "</style>\n",
       "<table border=\"1\" class=\"dataframe\">\n",
       "  <thead>\n",
       "    <tr style=\"text-align: right;\">\n",
       "      <th></th>\n",
       "      <th>name</th>\n",
       "      <th>platform</th>\n",
       "      <th>year_of_release</th>\n",
       "      <th>genre</th>\n",
       "      <th>na_sales</th>\n",
       "      <th>eu_sales</th>\n",
       "      <th>jp_sales</th>\n",
       "      <th>other_sales</th>\n",
       "      <th>global_sales</th>\n",
       "      <th>critic_score</th>\n",
       "      <th>user_score</th>\n",
       "      <th>rating</th>\n",
       "    </tr>\n",
       "  </thead>\n",
       "  <tbody>\n",
       "    <tr>\n",
       "      <th>0</th>\n",
       "      <td>Wii Sports</td>\n",
       "      <td>Wii</td>\n",
       "      <td>2006</td>\n",
       "      <td>Sports</td>\n",
       "      <td>41.36</td>\n",
       "      <td>28.96</td>\n",
       "      <td>3.77</td>\n",
       "      <td>8.45</td>\n",
       "      <td>82.54</td>\n",
       "      <td>76.0</td>\n",
       "      <td>8.0</td>\n",
       "      <td>E</td>\n",
       "    </tr>\n",
       "    <tr>\n",
       "      <th>1</th>\n",
       "      <td>Super Mario Bros.</td>\n",
       "      <td>NES</td>\n",
       "      <td>1985</td>\n",
       "      <td>Platform</td>\n",
       "      <td>29.08</td>\n",
       "      <td>3.58</td>\n",
       "      <td>6.81</td>\n",
       "      <td>0.77</td>\n",
       "      <td>40.24</td>\n",
       "      <td>NaN</td>\n",
       "      <td>NaN</td>\n",
       "      <td>RP</td>\n",
       "    </tr>\n",
       "    <tr>\n",
       "      <th>2</th>\n",
       "      <td>Mario Kart Wii</td>\n",
       "      <td>Wii</td>\n",
       "      <td>2008</td>\n",
       "      <td>Racing</td>\n",
       "      <td>15.68</td>\n",
       "      <td>12.76</td>\n",
       "      <td>3.79</td>\n",
       "      <td>3.29</td>\n",
       "      <td>35.52</td>\n",
       "      <td>82.0</td>\n",
       "      <td>8.3</td>\n",
       "      <td>E</td>\n",
       "    </tr>\n",
       "    <tr>\n",
       "      <th>3</th>\n",
       "      <td>Wii Sports Resort</td>\n",
       "      <td>Wii</td>\n",
       "      <td>2009</td>\n",
       "      <td>Sports</td>\n",
       "      <td>15.61</td>\n",
       "      <td>10.93</td>\n",
       "      <td>3.28</td>\n",
       "      <td>2.95</td>\n",
       "      <td>32.77</td>\n",
       "      <td>80.0</td>\n",
       "      <td>8.0</td>\n",
       "      <td>E</td>\n",
       "    </tr>\n",
       "    <tr>\n",
       "      <th>4</th>\n",
       "      <td>Pokemon Red/Pokemon Blue</td>\n",
       "      <td>GB</td>\n",
       "      <td>1996</td>\n",
       "      <td>Role-Playing</td>\n",
       "      <td>11.27</td>\n",
       "      <td>8.89</td>\n",
       "      <td>10.22</td>\n",
       "      <td>1.00</td>\n",
       "      <td>31.38</td>\n",
       "      <td>NaN</td>\n",
       "      <td>NaN</td>\n",
       "      <td>RP</td>\n",
       "    </tr>\n",
       "  </tbody>\n",
       "</table>\n",
       "</div>"
      ],
      "text/plain": [
       "                       name platform  year_of_release         genre  na_sales  \\\n",
       "0                Wii Sports      Wii             2006        Sports     41.36   \n",
       "1         Super Mario Bros.      NES             1985      Platform     29.08   \n",
       "2            Mario Kart Wii      Wii             2008        Racing     15.68   \n",
       "3         Wii Sports Resort      Wii             2009        Sports     15.61   \n",
       "4  Pokemon Red/Pokemon Blue       GB             1996  Role-Playing     11.27   \n",
       "\n",
       "   eu_sales  jp_sales  other_sales  global_sales  critic_score  user_score  \\\n",
       "0     28.96      3.77         8.45         82.54          76.0         8.0   \n",
       "1      3.58      6.81         0.77         40.24           NaN         NaN   \n",
       "2     12.76      3.79         3.29         35.52          82.0         8.3   \n",
       "3     10.93      3.28         2.95         32.77          80.0         8.0   \n",
       "4      8.89     10.22         1.00         31.38           NaN         NaN   \n",
       "\n",
       "  rating  \n",
       "0      E  \n",
       "1     RP  \n",
       "2      E  \n",
       "3      E  \n",
       "4     RP  "
      ]
     },
     "execution_count": 45,
     "metadata": {},
     "output_type": "execute_result"
    }
   ],
   "source": [
    "global_sales = df.apply(add_sales, axis=1) # Create series using the adding function\n",
    "df.insert(value=global_sales, loc=8, column='global_sales') # Insert series into the position I want in df\n",
    "\n",
    "df.head() # Verify success"
   ]
  },
  {
   "cell_type": "markdown",
   "id": "dc669dd6-adbf-4573-aca5-d854ab3c7b85",
   "metadata": {},
   "source": [
    "# Analysis"
   ]
  },
  {
   "cell_type": "code",
   "execution_count": null,
   "id": "b0db4f81-1d70-46d9-abc0-d3226604ad66",
   "metadata": {},
   "outputs": [],
   "source": []
  }
 ],
 "metadata": {
  "kernelspec": {
   "display_name": "Python 3 (ipykernel)",
   "language": "python",
   "name": "python3"
  },
  "language_info": {
   "codemirror_mode": {
    "name": "ipython",
    "version": 3
   },
   "file_extension": ".py",
   "mimetype": "text/x-python",
   "name": "python",
   "nbconvert_exporter": "python",
   "pygments_lexer": "ipython3",
   "version": "3.9.16"
  }
 },
 "nbformat": 4,
 "nbformat_minor": 5
}
